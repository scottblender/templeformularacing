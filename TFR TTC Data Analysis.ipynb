{
 "cells": [
  {
   "cell_type": "code",
   "execution_count": 1,
   "id": "376edf5a",
   "metadata": {},
   "outputs": [],
   "source": [
    "#16 X 7.5 (Our Tire)\n",
    "#Slip-angle at max grip:\n",
    "#What camber angle does the tire operate best at (Camber vs Lateral Force)?\n",
    "#What Lateral Load to achieve max grip?\n",
    "#18\" X 6\"\n",
    "#Slip-angle at max grip:\n",
    "#What camber angle does the tire operate best at (Camber vs. Lateral Force)?\n",
    "#What Lateral Load to achieve max grip?\n",
    "#Is it worth the extra 1lb per wheel?\n",
    "#Possibly have ideal camber angle decided by the Monday\n",
    "#18\" X 7.5\"\n",
    "#Slip-angle at max grip:\n",
    "#What camber angle does the tire operate best at (Camber vs. Lateral Force)?\n",
    "#What Lateral Load to achieve max grip?\n",
    "#Is it worth the added 2lb per wheel?"
   ]
  },
  {
   "cell_type": "code",
   "execution_count": 2,
   "id": "04e8f406",
   "metadata": {},
   "outputs": [],
   "source": [
    "#Data Dictionary\n",
    "#Camber = Inclination Angle\n",
    "#Fy = Lateral Force\n",
    "#Slip ratio = grip\n",
    "#Slip angle = SA\n",
    "#Weight\n",
    "#slip angle vs lateral force vs normal force graphs"
   ]
  },
  {
   "cell_type": "code",
   "execution_count": 3,
   "id": "af0066aa",
   "metadata": {},
   "outputs": [],
   "source": [
    "#Graphs I want to see:\n",
    "#Fy vs slip angle \n",
    "#Fz vs slip angle\n",
    "#Camber vs Fy\n",
    "#Fx vs longitudinal force\n",
    "#Aligning Torque vs slip angle\n",
    "#Slip angle between 5 and 10 degrees"
   ]
  },
  {
   "cell_type": "code",
   "execution_count": 4,
   "id": "eb24e3e7",
   "metadata": {},
   "outputs": [],
   "source": [
    "import pandas as pd\n",
    "import numpy as np\n",
    "import glob\n",
    "import plotly.express as px\n",
    "import matplotlib.pyplot as plt\n",
    "from astropy.io import ascii\n",
    "plt.rcParams['figure.figsize'] = [20, 12]\n",
    "files_18x7 = glob.glob(r'C:\\Users\\scott\\Downloads\\OneDrive_1_8-14-2021\\RunData_10inch_Cornering_ASCII_SI\\Hoosier_18x7.5\\*.dat')\n",
    "files_18x6 = glob.glob(r'C:\\Users\\scott\\Downloads\\OneDrive_1_8-14-2021\\RunData_10inch_Cornering_ASCII_SI\\Hoosier_18x6\\*.dat')\n",
    "df_cornering_18x7 = pd.DataFrame()\n",
    "df_cornering_18x6 = pd.DataFrame()\n",
    "\n",
    "for f in files_18x7:\n",
    "    csv = ascii.read(f, delimiter = '\\t', guess=False, header_start = 1, data_start = 3).to_pandas()\n",
    "    df_cornering_18x7 = pd.concat([df_cornering_18x7, csv])\n",
    "for f in files_18x6:\n",
    "    csv = ascii.read(f, delimiter = '\\t', guess=False, header_start = 1, data_start = 3).to_pandas()\n",
    "    df_cornering_18x6 = pd.concat([df_cornering_18x6, csv])"
   ]
  },
  {
   "cell_type": "code",
   "execution_count": 5,
   "id": "22b3073a",
   "metadata": {},
   "outputs": [],
   "source": [
    "files_18x7 = glob.glob(r'C:\\Users\\scott\\Downloads\\OneDrive_1_8-14-2021\\RunData_10inch_DriveBrake_ASCII_SI\\Hoosier_18x7.5\\*.dat')\n",
    "files_18x6 = glob.glob(r'C:\\Users\\scott\\Downloads\\OneDrive_1_8-14-2021\\RunData_10inch_DriveBrake_ASCII_SI\\Hoosier_18x6\\*.dat')\n",
    "\n",
    "df_drivebrake_18x7 = pd.DataFrame()\n",
    "df_drivebrake_18x6 = pd.DataFrame()\n",
    "\n",
    "for f in files_18x7:\n",
    "    csv = ascii.read(f, delimiter = '\\t', guess=False, header_start = 1, data_start = 3).to_pandas()\n",
    "    df_drivebrake_18x7 = pd.concat([df_drivebrake_18x7, csv])\n",
    "for f in files_18x6:\n",
    "    csv = ascii.read(f, delimiter = '\\t', guess=False, header_start = 1, data_start = 3).to_pandas()\n",
    "    df_drivebrake_18x6 = pd.concat([df_drivebrake_18x6, csv])"
   ]
  },
  {
   "cell_type": "code",
   "execution_count": 6,
   "id": "285bd98a",
   "metadata": {},
   "outputs": [],
   "source": [
    "files_16x7 = glob.glob(r'C:\\Users\\scott\\Downloads\\OneDrive_1_8-14-2021\\RunData_Cornering_ASCII_SI_10inch_Round8\\Hoosier_16x7.5\\*.dat')\n",
    "files_16x6 = glob.glob(r'C:\\Users\\scott\\Downloads\\OneDrive_1_8-14-2021\\RunData_Cornering_ASCII_SI_10inch_Round8\\Hoosier_16x6\\*.dat')\n",
    "\n",
    "df_cornering_16x7 = pd.DataFrame()\n",
    "df_cornering_16x6 = pd.DataFrame()\n",
    "\n",
    "for f in files_16x7:\n",
    "    csv = ascii.read(f, delimiter = '\\t', guess=False, header_start = 1, data_start = 3).to_pandas()\n",
    "    df_cornering_16x7 = pd.concat([df_cornering_16x7, csv])\n",
    "for f in files_16x6:\n",
    "    csv = ascii.read(f, delimiter = '\\t', guess=False, header_start = 1, data_start = 3).to_pandas()\n",
    "    df_cornering_16x6 = pd.concat([df_cornering_16x6, csv])"
   ]
  },
  {
   "cell_type": "code",
   "execution_count": 7,
   "id": "893c81a6",
   "metadata": {},
   "outputs": [],
   "source": [
    "df_cornering_18x7['Test_Type'] = 'Cornering'\n",
    "df_cornering_18x7['Wheel_Size'] = '18x7.5'\n",
    "df_cornering_18x6['Test_Type'] = 'Cornering'\n",
    "df_cornering_18x6['Wheel_Size'] = '18x6'\n",
    "df_drivebrake_18x7['Test_Type'] = 'Drive Brake'\n",
    "df_drivebrake_18x7['Wheel_Size'] = '18x7.5'\n",
    "df_drivebrake_18x7['Test_Type'] = 'Drive Brake'\n",
    "df_drivebrake_18x6['Wheel_Size'] = '18x6'\n",
    "df_cornering_16x7['Test_Type'] = 'Cornering'\n",
    "df_cornering_16x7['Wheel_Size'] = '16x7.5'\n",
    "df_cornering_16x6['Test_Type'] = 'Cornering'\n",
    "df_cornering_16x6['Wheel_Size'] = '16x6'"
   ]
  },
  {
   "cell_type": "code",
   "execution_count": 8,
   "id": "fc3d9d2b",
   "metadata": {},
   "outputs": [],
   "source": [
    "df = pd.concat([df_cornering_18x7, df_cornering_18x6, df_drivebrake_18x7, df_drivebrake_18x6, df_cornering_16x7, df_cornering_16x6])"
   ]
  },
  {
   "cell_type": "code",
   "execution_count": 9,
   "id": "14414668",
   "metadata": {},
   "outputs": [],
   "source": [
    "df.sort_values(by=['Test_Type', 'Wheel_Size'], inplace=True)\n",
    "df = df.reset_index(drop=True)"
   ]
  },
  {
   "cell_type": "code",
   "execution_count": 10,
   "id": "9706a628",
   "metadata": {},
   "outputs": [
    {
     "data": {
      "text/plain": [
       "(838421, 25)"
      ]
     },
     "metadata": {},
     "output_type": "display_data"
    },
    {
     "data": {
      "text/html": [
       "<div>\n",
       "<style scoped>\n",
       "    .dataframe tbody tr th:only-of-type {\n",
       "        vertical-align: middle;\n",
       "    }\n",
       "\n",
       "    .dataframe tbody tr th {\n",
       "        vertical-align: top;\n",
       "    }\n",
       "\n",
       "    .dataframe thead th {\n",
       "        text-align: right;\n",
       "    }\n",
       "</style>\n",
       "<table border=\"1\" class=\"dataframe\">\n",
       "  <thead>\n",
       "    <tr style=\"text-align: right;\">\n",
       "      <th></th>\n",
       "      <th>ET</th>\n",
       "      <th>V</th>\n",
       "      <th>N</th>\n",
       "      <th>SA</th>\n",
       "      <th>IA</th>\n",
       "      <th>RL</th>\n",
       "      <th>RE</th>\n",
       "      <th>P</th>\n",
       "      <th>FX</th>\n",
       "      <th>FY</th>\n",
       "      <th>...</th>\n",
       "      <th>RST</th>\n",
       "      <th>TSTI</th>\n",
       "      <th>TSTC</th>\n",
       "      <th>TSTO</th>\n",
       "      <th>AMBTMP</th>\n",
       "      <th>SR</th>\n",
       "      <th>Test_Type</th>\n",
       "      <th>Wheel_Size</th>\n",
       "      <th>SL</th>\n",
       "      <th>AmbTmp</th>\n",
       "    </tr>\n",
       "  </thead>\n",
       "  <tbody>\n",
       "    <tr>\n",
       "      <th>0</th>\n",
       "      <td>0.15</td>\n",
       "      <td>0.06</td>\n",
       "      <td>-0.01</td>\n",
       "      <td>-0.003</td>\n",
       "      <td>-0.007</td>\n",
       "      <td>19.46</td>\n",
       "      <td>-1105.06</td>\n",
       "      <td>83.32</td>\n",
       "      <td>4.03</td>\n",
       "      <td>-66.17</td>\n",
       "      <td>...</td>\n",
       "      <td>30.77</td>\n",
       "      <td>27.88</td>\n",
       "      <td>28.85</td>\n",
       "      <td>28.69</td>\n",
       "      <td>NaN</td>\n",
       "      <td>-1.0176</td>\n",
       "      <td>Cornering</td>\n",
       "      <td>16x6</td>\n",
       "      <td>NaN</td>\n",
       "      <td>27.70</td>\n",
       "    </tr>\n",
       "    <tr>\n",
       "      <th>1</th>\n",
       "      <td>0.16</td>\n",
       "      <td>0.04</td>\n",
       "      <td>0.05</td>\n",
       "      <td>0.010</td>\n",
       "      <td>-0.004</td>\n",
       "      <td>19.46</td>\n",
       "      <td>186.01</td>\n",
       "      <td>82.86</td>\n",
       "      <td>2.52</td>\n",
       "      <td>-64.81</td>\n",
       "      <td>...</td>\n",
       "      <td>30.75</td>\n",
       "      <td>27.86</td>\n",
       "      <td>28.87</td>\n",
       "      <td>28.66</td>\n",
       "      <td>NaN</td>\n",
       "      <td>-0.8954</td>\n",
       "      <td>Cornering</td>\n",
       "      <td>16x6</td>\n",
       "      <td>NaN</td>\n",
       "      <td>27.71</td>\n",
       "    </tr>\n",
       "    <tr>\n",
       "      <th>2</th>\n",
       "      <td>0.17</td>\n",
       "      <td>0.06</td>\n",
       "      <td>-0.08</td>\n",
       "      <td>-0.001</td>\n",
       "      <td>-0.012</td>\n",
       "      <td>19.47</td>\n",
       "      <td>-184.18</td>\n",
       "      <td>82.31</td>\n",
       "      <td>3.50</td>\n",
       "      <td>-66.79</td>\n",
       "      <td>...</td>\n",
       "      <td>30.72</td>\n",
       "      <td>27.86</td>\n",
       "      <td>28.85</td>\n",
       "      <td>28.62</td>\n",
       "      <td>NaN</td>\n",
       "      <td>-1.1057</td>\n",
       "      <td>Cornering</td>\n",
       "      <td>16x6</td>\n",
       "      <td>NaN</td>\n",
       "      <td>27.72</td>\n",
       "    </tr>\n",
       "    <tr>\n",
       "      <th>3</th>\n",
       "      <td>0.18</td>\n",
       "      <td>0.04</td>\n",
       "      <td>0.12</td>\n",
       "      <td>0.010</td>\n",
       "      <td>-0.007</td>\n",
       "      <td>19.47</td>\n",
       "      <td>82.67</td>\n",
       "      <td>82.41</td>\n",
       "      <td>3.22</td>\n",
       "      <td>-65.46</td>\n",
       "      <td>...</td>\n",
       "      <td>30.70</td>\n",
       "      <td>27.86</td>\n",
       "      <td>28.82</td>\n",
       "      <td>28.62</td>\n",
       "      <td>NaN</td>\n",
       "      <td>-0.7645</td>\n",
       "      <td>Cornering</td>\n",
       "      <td>16x6</td>\n",
       "      <td>NaN</td>\n",
       "      <td>27.71</td>\n",
       "    </tr>\n",
       "    <tr>\n",
       "      <th>4</th>\n",
       "      <td>0.19</td>\n",
       "      <td>0.06</td>\n",
       "      <td>0.19</td>\n",
       "      <td>0.024</td>\n",
       "      <td>-0.003</td>\n",
       "      <td>19.46</td>\n",
       "      <td>78.93</td>\n",
       "      <td>82.76</td>\n",
       "      <td>4.18</td>\n",
       "      <td>-66.93</td>\n",
       "      <td>...</td>\n",
       "      <td>30.69</td>\n",
       "      <td>27.88</td>\n",
       "      <td>28.79</td>\n",
       "      <td>28.63</td>\n",
       "      <td>NaN</td>\n",
       "      <td>-0.7535</td>\n",
       "      <td>Cornering</td>\n",
       "      <td>16x6</td>\n",
       "      <td>NaN</td>\n",
       "      <td>27.70</td>\n",
       "    </tr>\n",
       "    <tr>\n",
       "      <th>5</th>\n",
       "      <td>0.20</td>\n",
       "      <td>0.05</td>\n",
       "      <td>0.19</td>\n",
       "      <td>0.013</td>\n",
       "      <td>-0.012</td>\n",
       "      <td>19.46</td>\n",
       "      <td>66.04</td>\n",
       "      <td>83.32</td>\n",
       "      <td>4.45</td>\n",
       "      <td>-66.11</td>\n",
       "      <td>...</td>\n",
       "      <td>30.70</td>\n",
       "      <td>27.89</td>\n",
       "      <td>28.82</td>\n",
       "      <td>28.64</td>\n",
       "      <td>NaN</td>\n",
       "      <td>-0.7053</td>\n",
       "      <td>Cornering</td>\n",
       "      <td>16x6</td>\n",
       "      <td>NaN</td>\n",
       "      <td>27.72</td>\n",
       "    </tr>\n",
       "    <tr>\n",
       "      <th>6</th>\n",
       "      <td>0.21</td>\n",
       "      <td>0.06</td>\n",
       "      <td>-0.01</td>\n",
       "      <td>0.016</td>\n",
       "      <td>-0.012</td>\n",
       "      <td>19.46</td>\n",
       "      <td>-1105.06</td>\n",
       "      <td>83.27</td>\n",
       "      <td>4.72</td>\n",
       "      <td>-66.80</td>\n",
       "      <td>...</td>\n",
       "      <td>30.71</td>\n",
       "      <td>27.85</td>\n",
       "      <td>28.82</td>\n",
       "      <td>28.63</td>\n",
       "      <td>NaN</td>\n",
       "      <td>-1.0176</td>\n",
       "      <td>Cornering</td>\n",
       "      <td>16x6</td>\n",
       "      <td>NaN</td>\n",
       "      <td>27.72</td>\n",
       "    </tr>\n",
       "    <tr>\n",
       "      <th>7</th>\n",
       "      <td>0.22</td>\n",
       "      <td>0.04</td>\n",
       "      <td>0.12</td>\n",
       "      <td>-0.005</td>\n",
       "      <td>-0.018</td>\n",
       "      <td>19.47</td>\n",
       "      <td>82.67</td>\n",
       "      <td>82.97</td>\n",
       "      <td>4.29</td>\n",
       "      <td>-66.03</td>\n",
       "      <td>...</td>\n",
       "      <td>30.75</td>\n",
       "      <td>27.86</td>\n",
       "      <td>28.87</td>\n",
       "      <td>28.66</td>\n",
       "      <td>NaN</td>\n",
       "      <td>-0.7645</td>\n",
       "      <td>Cornering</td>\n",
       "      <td>16x6</td>\n",
       "      <td>NaN</td>\n",
       "      <td>27.70</td>\n",
       "    </tr>\n",
       "    <tr>\n",
       "      <th>8</th>\n",
       "      <td>0.23</td>\n",
       "      <td>0.07</td>\n",
       "      <td>-0.08</td>\n",
       "      <td>-0.006</td>\n",
       "      <td>-0.016</td>\n",
       "      <td>19.47</td>\n",
       "      <td>-214.26</td>\n",
       "      <td>82.46</td>\n",
       "      <td>5.15</td>\n",
       "      <td>-67.43</td>\n",
       "      <td>...</td>\n",
       "      <td>30.78</td>\n",
       "      <td>27.86</td>\n",
       "      <td>28.85</td>\n",
       "      <td>28.66</td>\n",
       "      <td>NaN</td>\n",
       "      <td>-1.0909</td>\n",
       "      <td>Cornering</td>\n",
       "      <td>16x6</td>\n",
       "      <td>NaN</td>\n",
       "      <td>27.70</td>\n",
       "    </tr>\n",
       "    <tr>\n",
       "      <th>9</th>\n",
       "      <td>0.24</td>\n",
       "      <td>0.05</td>\n",
       "      <td>-0.08</td>\n",
       "      <td>-0.015</td>\n",
       "      <td>-0.012</td>\n",
       "      <td>19.47</td>\n",
       "      <td>-154.09</td>\n",
       "      <td>82.46</td>\n",
       "      <td>3.75</td>\n",
       "      <td>-65.41</td>\n",
       "      <td>...</td>\n",
       "      <td>30.82</td>\n",
       "      <td>27.85</td>\n",
       "      <td>28.88</td>\n",
       "      <td>28.67</td>\n",
       "      <td>NaN</td>\n",
       "      <td>-1.1263</td>\n",
       "      <td>Cornering</td>\n",
       "      <td>16x6</td>\n",
       "      <td>NaN</td>\n",
       "      <td>27.72</td>\n",
       "    </tr>\n",
       "  </tbody>\n",
       "</table>\n",
       "<p>10 rows × 25 columns</p>\n",
       "</div>"
      ],
      "text/plain": [
       "     ET     V     N     SA     IA     RL       RE      P    FX     FY  ...  \\\n",
       "0  0.15  0.06 -0.01 -0.003 -0.007  19.46 -1105.06  83.32  4.03 -66.17  ...   \n",
       "1  0.16  0.04  0.05  0.010 -0.004  19.46   186.01  82.86  2.52 -64.81  ...   \n",
       "2  0.17  0.06 -0.08 -0.001 -0.012  19.47  -184.18  82.31  3.50 -66.79  ...   \n",
       "3  0.18  0.04  0.12  0.010 -0.007  19.47    82.67  82.41  3.22 -65.46  ...   \n",
       "4  0.19  0.06  0.19  0.024 -0.003  19.46    78.93  82.76  4.18 -66.93  ...   \n",
       "5  0.20  0.05  0.19  0.013 -0.012  19.46    66.04  83.32  4.45 -66.11  ...   \n",
       "6  0.21  0.06 -0.01  0.016 -0.012  19.46 -1105.06  83.27  4.72 -66.80  ...   \n",
       "7  0.22  0.04  0.12 -0.005 -0.018  19.47    82.67  82.97  4.29 -66.03  ...   \n",
       "8  0.23  0.07 -0.08 -0.006 -0.016  19.47  -214.26  82.46  5.15 -67.43  ...   \n",
       "9  0.24  0.05 -0.08 -0.015 -0.012  19.47  -154.09  82.46  3.75 -65.41  ...   \n",
       "\n",
       "     RST   TSTI   TSTC   TSTO  AMBTMP      SR  Test_Type  Wheel_Size  SL  \\\n",
       "0  30.77  27.88  28.85  28.69     NaN -1.0176  Cornering        16x6 NaN   \n",
       "1  30.75  27.86  28.87  28.66     NaN -0.8954  Cornering        16x6 NaN   \n",
       "2  30.72  27.86  28.85  28.62     NaN -1.1057  Cornering        16x6 NaN   \n",
       "3  30.70  27.86  28.82  28.62     NaN -0.7645  Cornering        16x6 NaN   \n",
       "4  30.69  27.88  28.79  28.63     NaN -0.7535  Cornering        16x6 NaN   \n",
       "5  30.70  27.89  28.82  28.64     NaN -0.7053  Cornering        16x6 NaN   \n",
       "6  30.71  27.85  28.82  28.63     NaN -1.0176  Cornering        16x6 NaN   \n",
       "7  30.75  27.86  28.87  28.66     NaN -0.7645  Cornering        16x6 NaN   \n",
       "8  30.78  27.86  28.85  28.66     NaN -1.0909  Cornering        16x6 NaN   \n",
       "9  30.82  27.85  28.88  28.67     NaN -1.1263  Cornering        16x6 NaN   \n",
       "\n",
       "   AmbTmp  \n",
       "0   27.70  \n",
       "1   27.71  \n",
       "2   27.72  \n",
       "3   27.71  \n",
       "4   27.70  \n",
       "5   27.72  \n",
       "6   27.72  \n",
       "7   27.70  \n",
       "8   27.70  \n",
       "9   27.72  \n",
       "\n",
       "[10 rows x 25 columns]"
      ]
     },
     "metadata": {},
     "output_type": "display_data"
    }
   ],
   "source": [
    "display(df.shape, df.head(10))"
   ]
  },
  {
   "cell_type": "code",
   "execution_count": 11,
   "id": "1bc59c16",
   "metadata": {
    "scrolled": false
   },
   "outputs": [],
   "source": [
    "#display(df.IA.value_counts().to_dict(), px.histogram(x=df.IA, color=df.Wheel_Size, barmode='group'))"
   ]
  },
  {
   "cell_type": "code",
   "execution_count": 12,
   "id": "281bdee2",
   "metadata": {},
   "outputs": [],
   "source": [
    "df['IA'] = np.where((-5.5 <= df.IA) & (df.IA < -4.5), -5.0, df.IA)\n",
    "df['IA'] = np.where((-4.5 <= df.IA) & (df.IA < -3.5), -4.0, df.IA)\n",
    "df['IA'] = np.where((-3.5 <= df.IA) & (df.IA < -2.5), -3.0, df.IA)\n",
    "df['IA'] = np.where((-2.5 <= df.IA) & (df.IA < -1.5), -2.0, df.IA)\n",
    "df['IA'] = np.where((-1.5 <= df.IA) & (df.IA < -0.5), -1.0, df.IA)\n",
    "df['IA'] = np.where((-0.5 <= df.IA) & (df.IA < 0.5), 0.0, df.IA)\n",
    "df['IA'] = np.where((0.5 <= df.IA) & (df.IA < 1.5), 1.0, df.IA)\n",
    "df['IA'] = np.where((1.5 <= df.IA) & (df.IA < 2.5), 2.0, df.IA)\n",
    "df['IA'] = np.where((2.5 <= df.IA) & (df.IA < 3.5), 3.0, df.IA)\n",
    "df['IA'] = np.where((3.5 <= df.IA) & (df.IA < 4.5), 4.0, df.IA)\n",
    "df['IA'] = np.where((4.5 <= df.IA) & (df.IA < 5.5), 5.0, df.IA)"
   ]
  },
  {
   "cell_type": "code",
   "execution_count": 13,
   "id": "064f959a",
   "metadata": {},
   "outputs": [],
   "source": [
    "#display(df.FZ.value_counts().to_dict(), px.histogram(x=df.FZ, color=df.Wheel_Size, barmode='group'))"
   ]
  },
  {
   "cell_type": "code",
   "execution_count": 14,
   "id": "2b5b47eb",
   "metadata": {},
   "outputs": [],
   "source": [
    "df['FZ'] = np.where((16 >= df.FZ) & (-300 < df.FZ), 222.0, df.FZ)\n",
    "df['FZ'] = np.where((-300 >= df.FZ) & (-500 < df.FZ), 445.0, df.FZ)\n",
    "df['FZ'] = np.where((-500 >= df.FZ) & (-700 < df.FZ), 667.0, df.FZ)\n",
    "df['FZ'] = np.where((-700 >= df.FZ) & (-1000 < df.FZ), 890.0, df.FZ)\n",
    "df['FZ'] = np.where((-1000 >= df.FZ) & (-1624 < df.FZ), 1113.0, df.FZ)"
   ]
  },
  {
   "cell_type": "code",
   "execution_count": 15,
   "id": "614244d4",
   "metadata": {},
   "outputs": [],
   "source": [
    "#df.FZ.value_counts().to_dict()"
   ]
  },
  {
   "cell_type": "code",
   "execution_count": 16,
   "id": "e19652db",
   "metadata": {},
   "outputs": [],
   "source": [
    "#display(df.P.value_counts(), px.histogram(x=df.P, color=df.Wheel_Size, barmode='group'))"
   ]
  },
  {
   "cell_type": "code",
   "execution_count": 17,
   "id": "d45477f0",
   "metadata": {},
   "outputs": [],
   "source": [
    "df['P'] = np.where((0 <= df.P) & (df.P < 65), 8, df.P)\n",
    "df['P'] = np.where((65 <= df.P) & (df.P < 75), 10, df.P)\n",
    "df['P'] = np.where((75 <= df.P) & (df.P < 90), 12, df.P)\n",
    "df['P'] = np.where((90 <= df.P) & (df.P < 100), 14, df.P)"
   ]
  },
  {
   "cell_type": "code",
   "execution_count": 18,
   "id": "f2911118",
   "metadata": {},
   "outputs": [],
   "source": [
    "#display(df.SA.value_counts(), px.histogram(x=df.SA, color=df.Wheel_Size, barmode='group'))"
   ]
  },
  {
   "cell_type": "code",
   "execution_count": 19,
   "id": "f17b1a53",
   "metadata": {},
   "outputs": [],
   "source": [
    "#df['SA'] = np.where((df.SA > -13) & (df.SA < -5), -6.05, df.SA)\n",
    "#df['SA'] = np.where((df.SA > -5) & (df.SA < -1.5), -3.05, df.SA)\n",
    "#df['SA'] = np.where((df.SA > -1.5) & (df.SA < -0.5), -1.05, df.SA)\n",
    "#df['SA'] = np.where((df.SA > -0.5) & (df.SA < 0.5), 0.05, df.SA)\n",
    "#df['SA'] = np.where((df.SA > 0.5) & (df.SA < 4), 0.85, df.SA)\n",
    "#df['SA'] = np.where((df.SA > 3) & (df.SA < 13), 5.95, df.SA)"
   ]
  },
  {
   "cell_type": "code",
   "execution_count": 20,
   "id": "0c33109b",
   "metadata": {},
   "outputs": [],
   "source": [
    "#find peak load for 16x7.5 tire\n",
    "df_16x7_222 = df[(df.Wheel_Size == '16x7.5') & (df.IA == 0.0) & (df.P == 12.0) & (df.Test_Type == 'Cornering') & (df.FZ == 222.0)]\n",
    "df_16x7_445 = df[(df.Wheel_Size == '16x7.5') & (df.IA == 0.0) & (df.P == 12.0) & (df.Test_Type == 'Cornering') & (df.FZ == 445.0)]\n",
    "df_16x7_667 = df[(df.Wheel_Size == '16x7.5') & (df.IA == 0.0) & (df.P == 12.0) & (df.Test_Type == 'Cornering') & (df.FZ == 667.0)]\n",
    "df_16x7_890 = df[(df.Wheel_Size == '16x7.5') & (df.IA == 0.0) & (df.P == 12.0) & (df.Test_Type == 'Cornering') & (df.FZ == 890.0)]\n",
    "df_16x7_1113 = df[(df.Wheel_Size == '16x7.5') & (df.IA == 0.0) & (df.P == 12.0) & (df.Test_Type == 'Cornering') & (df.FZ == 1113.0)]\n"
   ]
  },
  {
   "cell_type": "code",
   "execution_count": 21,
   "id": "b8276f20",
   "metadata": {},
   "outputs": [
    {
     "name": "stderr",
     "output_type": "stream",
     "text": [
      "<ipython-input-21-e2d1c926a8fd>:1: UserWarning: Boolean Series key will be reindexed to match DataFrame index.\n",
      "  peak_lateral_force_222_y = df_16x7_222[(df.SA < 13) & (df.SA > 6.5)].FY.max()\n",
      "<ipython-input-21-e2d1c926a8fd>:2: UserWarning: Boolean Series key will be reindexed to match DataFrame index.\n",
      "  peak_lateral_force_445_y = df_16x7_445[(df.SA < 13) & (df.SA > 7)].FY.max()\n",
      "<ipython-input-21-e2d1c926a8fd>:3: UserWarning: Boolean Series key will be reindexed to match DataFrame index.\n",
      "  peak_lateral_force_667_y = df_16x7_667[(df.SA < 13) & (df.SA > 7.5)].FY.max()\n",
      "<ipython-input-21-e2d1c926a8fd>:4: UserWarning: Boolean Series key will be reindexed to match DataFrame index.\n",
      "  peak_lateral_force_890_y = df_16x7_890[(df.SA < 13) & (df.SA > 8)].FY.max()\n",
      "<ipython-input-21-e2d1c926a8fd>:5: UserWarning: Boolean Series key will be reindexed to match DataFrame index.\n",
      "  peak_lateral_force_1113_y = df_16x7_1113[(df.SA < 13) & (df.SA > 8.5)].FY.max()\n"
     ]
    }
   ],
   "source": [
    "peak_lateral_force_222_y = df_16x7_222[(df.SA < 13) & (df.SA > 6.5)].FY.max()\n",
    "peak_lateral_force_445_y = df_16x7_445[(df.SA < 13) & (df.SA > 7)].FY.max()\n",
    "peak_lateral_force_667_y = df_16x7_667[(df.SA < 13) & (df.SA > 7.5)].FY.max()\n",
    "peak_lateral_force_890_y = df_16x7_890[(df.SA < 13) & (df.SA > 8)].FY.max()\n",
    "peak_lateral_force_1113_y = df_16x7_1113[(df.SA < 13) & (df.SA > 8.5)].FY.max()\n",
    "peak_lateral_force_222_max = df_16x7_222.FY.max()\n",
    "peak_lateral_force_445_max = df_16x7_445.FY.max()\n",
    "peak_lateral_force_667_max = df_16x7_667.FY.max()\n",
    "peak_lateral_force_890_max = df_16x7_890.FY.max()\n",
    "peak_lateral_force_1113_max = df_16x7_1113.FY.max()"
   ]
  },
  {
   "cell_type": "code",
   "execution_count": 23,
   "id": "1d147e00",
   "metadata": {},
   "outputs": [
    {
     "data": {
      "text/plain": [
       "638.84"
      ]
     },
     "metadata": {},
     "output_type": "display_data"
    },
    {
     "data": {
      "text/plain": [
       "1160.76"
      ]
     },
     "metadata": {},
     "output_type": "display_data"
    },
    {
     "data": {
      "text/plain": [
       "1668.54"
      ]
     },
     "metadata": {},
     "output_type": "display_data"
    },
    {
     "data": {
      "text/plain": [
       "2145.23"
      ]
     },
     "metadata": {},
     "output_type": "display_data"
    },
    {
     "data": {
      "text/plain": [
       "2608.62"
      ]
     },
     "metadata": {},
     "output_type": "display_data"
    }
   ],
   "source": [
    "display(peak_lateral_force_222_max, peak_lateral_force_445_max, peak_lateral_force_667_max, peak_lateral_force_890_max, peak_lateral_force_1113_max)"
   ]
  },
  {
   "cell_type": "code",
   "execution_count": 24,
   "id": "6e5c5258",
   "metadata": {},
   "outputs": [
    {
     "name": "stderr",
     "output_type": "stream",
     "text": [
      "<ipython-input-24-6376e5d51f0b>:1: UserWarning: Boolean Series key will be reindexed to match DataFrame index.\n",
      "  peak_lateral_force_222_x = df_16x7_222[(df.SA < 13) & (df.SA > 6.5)].FX.max()\n",
      "<ipython-input-24-6376e5d51f0b>:2: UserWarning: Boolean Series key will be reindexed to match DataFrame index.\n",
      "  peak_lateral_force_445_x = df_16x7_445[(df.SA < 13) & (df.SA > 7)].FX.max()\n",
      "<ipython-input-24-6376e5d51f0b>:3: UserWarning: Boolean Series key will be reindexed to match DataFrame index.\n",
      "  peak_lateral_force_667_x = df_16x7_667[(df.SA < 13) & (df.SA > 7.5)].FX.max()\n",
      "<ipython-input-24-6376e5d51f0b>:4: UserWarning: Boolean Series key will be reindexed to match DataFrame index.\n",
      "  peak_lateral_force_890_x = df_16x7_890[(df.SA < 13) & (df.SA > 8)].FX.max()\n",
      "<ipython-input-24-6376e5d51f0b>:5: UserWarning: Boolean Series key will be reindexed to match DataFrame index.\n",
      "  peak_lateral_force_1113_x = df_16x7_1113[(df.SA < 13) & (df.SA > 8.5)].FX.max()\n"
     ]
    }
   ],
   "source": [
    "peak_lateral_force_222_x = df_16x7_222[(df.SA < 13) & (df.SA > 6.5)].FX.max()\n",
    "peak_lateral_force_445_x = df_16x7_445[(df.SA < 13) & (df.SA > 7)].FX.max()\n",
    "peak_lateral_force_667_x = df_16x7_667[(df.SA < 13) & (df.SA > 7.5)].FX.max()\n",
    "peak_lateral_force_890_x = df_16x7_890[(df.SA < 13) & (df.SA > 8)].FX.max()\n",
    "peak_lateral_force_1113_x = df_16x7_1113[(df.SA < 13) & (df.SA > 8.5)].FX.max()\n",
    "peak_lateral_force_222_max_x = df_16x7_222.FY.max()\n",
    "peak_lateral_force_445_max_x = df_16x7_445.FY.max()\n",
    "peak_lateral_force_667_max_x = df_16x7_667.FY.max()\n",
    "peak_lateral_force_890_max_x = df_16x7_890.FY.max()\n",
    "peak_lateral_force_1113_max_x = df_16x7_1113.FY.max()"
   ]
  },
  {
   "cell_type": "code",
   "execution_count": 25,
   "id": "719c19b4",
   "metadata": {},
   "outputs": [
    {
     "data": {
      "text/plain": [
       "22.65"
      ]
     },
     "metadata": {},
     "output_type": "display_data"
    },
    {
     "data": {
      "text/plain": [
       "21.93"
      ]
     },
     "metadata": {},
     "output_type": "display_data"
    },
    {
     "data": {
      "text/plain": [
       "20.05"
      ]
     },
     "metadata": {},
     "output_type": "display_data"
    },
    {
     "data": {
      "text/plain": [
       "11.42"
      ]
     },
     "metadata": {},
     "output_type": "display_data"
    },
    {
     "data": {
      "text/plain": [
       "12.48"
      ]
     },
     "metadata": {},
     "output_type": "display_data"
    }
   ],
   "source": [
    "display(peak_lateral_force_222_x, peak_lateral_force_445_x, peak_lateral_force_667_x, peak_lateral_force_890_x, peak_lateral_force_1113_x)"
   ]
  },
  {
   "cell_type": "code",
   "execution_count": null,
   "id": "00b35623",
   "metadata": {},
   "outputs": [],
   "source": [
    "#find peak load for 16x7.5 tire\n",
    "df_16x7_222_drivebrake = df[(df.Wheel_Size == '18x7.5') & (df.IA == 0.0) & (df.P == 12.0) & (df.Test_Type == 'Drive Brake') & (df.FZ == 222.0)]\n",
    "df_16x7_445_drivebrake = df[(df.Wheel_Size == '18x7.5') & (df.IA == 0.0) & (df.P == 12.0) & (df.Test_Type == 'Drive Brake') & (df.FZ == 445.0)]\n",
    "df_16x7_667_drivebrake = df[(df.Wheel_Size == '18x7.5') & (df.IA == 0.0) & (df.P == 12.0) & (df.Test_Type == 'Drive Brake') & (df.FZ == 667.0)]\n",
    "df_16x7_890_drivebrake = df[(df.Wheel_Size == '18x7.5') & (df.IA == 0.0) & (df.P == 12.0) & (df.Test_Type == 'Drive Brake') & (df.FZ == 890.0)]\n",
    "df_16x7_1113_drivebrake = df[(df.Wheel_Size == '18x7.5') & (df.IA == 0.0) & (df.P == 12.0) & (df.Test_Type == 'Drive Brake') & (df.FZ == 1113.0)]\n",
    "peak_lateral_force_222_drivebrake = df_16x7_222_drivebrake.FY.max()\n",
    "peak_lateral_force_445_drivebrake = df_16x7_445_drivebrake.FY.max()\n",
    "peak_lateral_force_667_drivebrake = df_16x7_667_drivebrake.FY.max()\n",
    "peak_lateral_force_890_drivebrake = df_16x7_890_drivebrake.FY.max()\n",
    "peak_lateral_force_1113_drivebrake = df_16x7_1113_drivebrake.FY.max()"
   ]
  },
  {
   "cell_type": "code",
   "execution_count": null,
   "id": "2e0d93fb",
   "metadata": {},
   "outputs": [],
   "source": [
    "peak_braking_coeff_222 = peak_lateral_force_222_max/222\n",
    "peak_braking_coeff_445 = peak_lateral_force_445_max/445\n",
    "peak_braking_coeff_667 = peak_lateral_force_667_max/667\n",
    "peak_braking_coeff_890 = peak_lateral_force_890_max/890\n",
    "peak_braking_coeff_1113 = peak_lateral_force_1113_max/1113"
   ]
  },
  {
   "cell_type": "code",
   "execution_count": null,
   "id": "b1310789",
   "metadata": {},
   "outputs": [],
   "source": [
    "display(\n",
    "'Normal Load of 222.0 Braking Coeff:'+ str(peak_braking_coeff_222),\n",
    "'Normal Load of 445.0 Braking Coeff:'+ str(peak_braking_coeff_445),\n",
    "'Normal Load of 667.0 Braking Coeff:'+ str(peak_braking_coeff_667),\n",
    "'Normal Load of 890.0 Braking Coeff:'+ str(peak_braking_coeff_890),\n",
    "'Normal Load of 1113.0 Braking Coeff:'+ str(peak_braking_coeff_1113))"
   ]
  },
  {
   "cell_type": "code",
   "execution_count": null,
   "id": "363af4a7",
   "metadata": {},
   "outputs": [],
   "source": [
    "peak_braking_coeff_222_drivebrake = peak_lateral_force_222/222\n",
    "peak_braking_coeff_445_drivebrake = peak_lateral_force_445/445\n",
    "peak_braking_coeff_667_drivebrake = peak_lateral_force_667/667\n",
    "peak_braking_coeff_890_drivebrake = peak_lateral_force_890/890\n",
    "peak_braking_coeff_1113_drivebrake = peak_lateral_force_1113/1113"
   ]
  },
  {
   "cell_type": "code",
   "execution_count": null,
   "id": "0555f6aa",
   "metadata": {},
   "outputs": [],
   "source": [
    "display(\n",
    "'Normal Load of 222.0 Braking Coeff:'+ str(peak_braking_coeff_222_drivebrake),\n",
    "'Normal Load of 445.0 Braking Coeff:'+ str(peak_braking_coeff_445_drivebrake),\n",
    "'Normal Load of 667.0 Braking Coeff:'+ str(peak_braking_coeff_667_drivebrake),\n",
    "'Normal Load of 890.0 Braking Coeff:'+ str(peak_braking_coeff_890_drivebrake),\n",
    "'Normal Load of 1113.0 Braking Coeff:'+ str(peak_braking_coeff_1113_drivebrake))"
   ]
  },
  {
   "cell_type": "code",
   "execution_count": null,
   "id": "1336c00e",
   "metadata": {},
   "outputs": [],
   "source": [
    "def plot_SAvFY_func(Wheel_Size, IA, P, Test_Type, FZ):\n",
    "    if type(FZ) == list:\n",
    "        plot_df = df[(df.Wheel_Size == Wheel_Size) & (df.IA == IA) & (df.P == P) & (df.Test_Type == Test_Type) & (df.FZ.isin(FZ))]\n",
    "        x = []\n",
    "        y = []\n",
    "        for i in range(len(FZ)):\n",
    "            y.append(plot_df[plot_df.FZ == FZ[i]].FY) \n",
    "            x.append(plot_df[plot_df.FZ == FZ[i]].SA)\n",
    "        plt.xlabel('Slip Angle')\n",
    "        plt.ylabel('Lateral Force')\n",
    "        plt.title('Slip Angle vs Lateral Force')\n",
    "        for i in range(len(FZ)):\n",
    "            plt.scatter(x[i], y[i], label=FZ[i])\n",
    "        plt.legend()\n",
    "        return plt.show()\n",
    "    else:\n",
    "        plot_df = df[(df.Wheel_Size == Wheel_Size) & (df.IA == IA) & (df.P == P) & (df.Test_Type == Test_Type) & (df.FZ == FZ)]\n",
    "        y = plot_df.FY\n",
    "        x = plot_df.SA\n",
    "        plt.xlabel('Slip Angle')\n",
    "        plt.ylabel('Lateral Force')\n",
    "        plt.title('Slip Angle vs Lateral Force')\n",
    "        plt.scatter(x,y)\n",
    "        return plt.show()"
   ]
  },
  {
   "cell_type": "code",
   "execution_count": null,
   "id": "b4f0d9f8",
   "metadata": {},
   "outputs": [],
   "source": [
    "def plot_SRvFY_func(Wheel_Size, IA, P, Test_Type, FZ):\n",
    "    if type(FZ) == list:\n",
    "        plot_df = df[(df.Wheel_Size == Wheel_Size) & (df.IA == IA) & (df.P == P) & (df.Test_Type == Test_Type) & (df.FZ.isin(FZ))]\n",
    "        x = []\n",
    "        y = []\n",
    "        for i in range(len(FZ)):\n",
    "            y.append(plot_df[plot_df.FZ == FZ[i]].FY) \n",
    "            x.append(plot_df[plot_df.FZ == FZ[i]].SR)\n",
    "        plt.xlabel('Slip Ratio')\n",
    "        plt.ylabel('Lateral Force')\n",
    "        plt.title('Slip Ratio vs Lateral Force')\n",
    "        for i in range(len(FZ)):\n",
    "            plt.scatter(x[i], y[i], label=FZ[i])\n",
    "        plt.legend()\n",
    "        return plt.show()\n",
    "    else:\n",
    "        plot_df = df[(df.Wheel_Size == Wheel_Size) & (df.IA == IA) & (df.P == P) & (df.Test_Type == Test_Type) & (df.FZ == FZ)]\n",
    "        y = plot_df.FY\n",
    "        x = plot_df.SR\n",
    "        plt.xlabel('Slip Ratio')\n",
    "        plt.ylabel('Lateral Force')\n",
    "        plt.title('Slip Ratio vs Lateral Force')\n",
    "        plt.scatter(x,y)\n",
    "        return plt.show()"
   ]
  },
  {
   "cell_type": "code",
   "execution_count": null,
   "id": "7154fe6a",
   "metadata": {},
   "outputs": [],
   "source": [
    "def plot_SAvFZ_func(Wheel_Size, IA, P, Test_Type, FZ):\n",
    "    if type(FZ) == list:\n",
    "        plot_df = df[(df.Wheel_Size == Wheel_Size) & (df.IA == IA) & (df.P == P) & (df.Test_Type == Test_Type) & (df.FZ.isin(FZ))]\n",
    "        x = []\n",
    "        y = []\n",
    "        for i in range(len(FZ)):\n",
    "            y.append(plot_df[plot_df.FZ == FZ[i]].FZ) \n",
    "            x.append(plot_df[plot_df.FZ == FZ[i]].SA)\n",
    "        plt.xlabel('Slip Angle')\n",
    "        plt.ylabel('Normal Load')\n",
    "        plt.title('Slip Angle vs Normal Load')\n",
    "        for i in range(len(FZ)):\n",
    "            plt.scatter(x[i], y[i], label=FZ[i])\n",
    "        plt.legend()\n",
    "        return plt.show()\n",
    "    else:\n",
    "        plot_df = df[(df.Wheel_Size == Wheel_Size) & (df.IA == IA) & (df.P == P) & (df.Test_Type == Test_Type) & (df.FZ == FZ)]\n",
    "        y = plot_df.FZ\n",
    "        x = plot_df.SA\n",
    "        plt.xlabel('Slip Angle')\n",
    "        plt.ylabel('Normal Load')\n",
    "        plt.title('Slip Angle vs Normal Load')\n",
    "        plt.scatter(x,y)\n",
    "        return plt.show()"
   ]
  },
  {
   "cell_type": "code",
   "execution_count": null,
   "id": "709d5a17",
   "metadata": {},
   "outputs": [],
   "source": [
    "def plot_IAvFY_func(Wheel_Size, IA, P, Test_Type, FZ):\n",
    "    if type(FZ) == list:\n",
    "        plot_df = df[(df.Wheel_Size == Wheel_Size) & (df.IA == IA) & (df.P == P) & (df.Test_Type == Test_Type) & (df.FZ.isin(FZ))]\n",
    "        x = []\n",
    "        y = []\n",
    "        for i in range(len(FZ)):\n",
    "            y.append(plot_df[plot_df.FZ == FZ[i]].FY) \n",
    "            x.append(plot_df[plot_df.FZ == FZ[i]].IA)\n",
    "        plt.xlabel('Inclination Angle')\n",
    "        plt.ylabel('Lateral Force')\n",
    "        plt.title('Inclination Angle vs Lateral Force')\n",
    "        for i in range(len(FZ)):\n",
    "            plt.scatter(x[i], y[i], label=FZ[i])\n",
    "        plt.legend()\n",
    "        return plt.show()\n",
    "    else:\n",
    "        plot_df = df[(df.Wheel_Size == Wheel_Size) & (df.IA == IA) & (df.P == P) & (df.Test_Type == Test_Type) & (df.FZ == FZ)]\n",
    "        y = plot_df.FY\n",
    "        x = plot_df.IA\n",
    "        plt.xlabel('Inclination Angle')\n",
    "        plt.ylabel('Lateral Force')\n",
    "        plt.title('Inclination Angle vs Lateral Force')\n",
    "        plt.scatter(x,y)\n",
    "        return plt.show()"
   ]
  },
  {
   "cell_type": "code",
   "execution_count": null,
   "id": "9b1341ed",
   "metadata": {},
   "outputs": [],
   "source": [
    "def plot_SAvFX_func(Wheel_Size, IA, P, Test_Type, FZ):\n",
    "    if type(FZ) == list:\n",
    "        plot_df = df[(df.Wheel_Size == Wheel_Size) & (df.IA == IA) & (df.P == P) & (df.Test_Type == Test_Type) & (df.FZ.isin(FZ))]\n",
    "        x = []\n",
    "        y = []\n",
    "        for i in range(len(FZ)):\n",
    "            y.append(plot_df[plot_df.FZ == FZ[i]].FX) \n",
    "            x.append(plot_df[plot_df.FZ == FZ[i]].SA)\n",
    "        plt.xlabel('Slip Angle')\n",
    "        plt.ylabel('Longitudinal Force')\n",
    "        plt.title('Slip Angle vs Longitudinal Force')\n",
    "        for i in range(len(FZ)):\n",
    "            plt.scatter(x[i], y[i], label=FZ[i])\n",
    "        plt.legend()\n",
    "        return plt.show()\n",
    "    else:\n",
    "        plot_df = df[(df.Wheel_Size == Wheel_Size) & (df.IA == IA) & (df.P == P) & (df.Test_Type == Test_Type) & (df.FZ == FZ)]\n",
    "        y = plot_df.FX\n",
    "        x = plot_df.SA\n",
    "        plt.xlabel('Slip Angle')\n",
    "        plt.ylabel('Longitudinal Force')\n",
    "        plt.title('Slip Angle vs Longitudinal Force')\n",
    "        plt.scatter(x,y)\n",
    "        return plt.show()"
   ]
  },
  {
   "cell_type": "code",
   "execution_count": null,
   "id": "b16a59d3",
   "metadata": {},
   "outputs": [],
   "source": [
    "def plot_SAvMZ_func(Wheel_Size, IA, P, Test_Type, FZ):\n",
    "    if type(FZ) == list:\n",
    "        plot_df = df[(df.Wheel_Size == Wheel_Size) & (df.IA == IA) & (df.P == P) & (df.Test_Type == Test_Type) & (df.FZ.isin(FZ))]\n",
    "        x = []\n",
    "        y = []\n",
    "        for i in range(len(FZ)):\n",
    "            y.append(plot_df[plot_df.FZ == FZ[i]].MZ) \n",
    "            x.append(plot_df[plot_df.FZ == FZ[i]].SA)\n",
    "        plt.xlabel('Slip Angle')\n",
    "        plt.ylabel('Aligning Torque')\n",
    "        plt.title('Slip Angle vs Aligning Torque')\n",
    "        for i in range(len(FZ)):\n",
    "            plt.scatter(x[i], y[i], label=FZ[i])\n",
    "        plt.legend()\n",
    "        return plt.show()\n",
    "    else:\n",
    "        plot_df = df[(df.Wheel_Size == Wheel_Size) & (df.IA == IA) & (df.P == P) & (df.Test_Type == Test_Type) & (df.FZ == FZ)]\n",
    "        y = plot_df.MZ\n",
    "        x = plot_df.SA\n",
    "        plt.xlabel('Slip Angle')\n",
    "        plt.ylabel('Aligning Torque')\n",
    "        plt.title('Slip Angle vs Aligning Torque')\n",
    "        plt.scatter(x,y)\n",
    "        return plt.show()"
   ]
  },
  {
   "cell_type": "code",
   "execution_count": null,
   "id": "e375002e",
   "metadata": {},
   "outputs": [],
   "source": [
    "#Parameters\n",
    "Wheel_Size_list = df.Wheel_Size.unique().tolist()\n",
    "IA_list = df.IA.unique().tolist()\n",
    "P_list = df.P.unique().tolist()\n",
    "Test_Type_list = df.Test_Type.unique().tolist()\n",
    "FZ_list = df.FZ.unique().tolist()\n",
    "\n",
    "def parameter_func(Wheel_Size, IA, P, Test_Type, FZ):\n",
    "    return str(\"\"\"\"Your chosen parameters are: \n",
    "               Wheel: \"\"\" + Wheel_Size + \n",
    "              \"\"\" IA: \"\"\" + str(IA) + \n",
    "              \"\"\" P: \"\"\" + str(P) + \n",
    "              \"\"\" Test_Type: \"\"\" + Test_Type + \n",
    "              \"\"\" FZ: \"\"\" + str(FZ))"
   ]
  },
  {
   "cell_type": "code",
   "execution_count": null,
   "id": "3f70d30d",
   "metadata": {
    "scrolled": false
   },
   "outputs": [],
   "source": [
    "loop = True\n",
    "while loop == True:\n",
    "    FZ_Input = []\n",
    "    Graph_Input = input(\"Enter which graph you would like to see:\")\n",
    "    Wheel_Size_Input = str(input(\"Enter Wheel Size:\"))\n",
    "    IA_Input = float(input(\"Enter IA:\"))\n",
    "    P_Input = float(input(\"Enter P:\"))\n",
    "    Test_Type_Input = str(input(\"Enter Test Type:\"))\n",
    "    FZ_Count_Input = str(input(\"How many normal loads would you like to graph?\"))\n",
    "    for i in range(int(FZ_Count_Input)):\n",
    "        FZ_Input.append(float(input(\"Enter FZ:\")))\n",
    "    print(parameter_func(Wheel_Size_Input, IA_Input, P_Input, Test_Type_Input, FZ_Input))\n",
    "    func = globals()[Graph_Input]\n",
    "    func(Wheel_Size_Input, IA_Input, P_Input, Test_Type_Input, FZ_Input)\n",
    "    Loop_Input = str(input(\"Repeat?\"))\n",
    "    if Loop_Input == 'Y':\n",
    "        loop = True\n",
    "    if Loop_Input == 'N':\n",
    "        loop = False"
   ]
  },
  {
   "cell_type": "code",
   "execution_count": null,
   "id": "9bc4cd1e",
   "metadata": {},
   "outputs": [],
   "source": []
  }
 ],
 "metadata": {
  "kernelspec": {
   "display_name": "Python 3",
   "language": "python",
   "name": "python3"
  },
  "language_info": {
   "codemirror_mode": {
    "name": "ipython",
    "version": 3
   },
   "file_extension": ".py",
   "mimetype": "text/x-python",
   "name": "python",
   "nbconvert_exporter": "python",
   "pygments_lexer": "ipython3",
   "version": "3.8.8"
  }
 },
 "nbformat": 4,
 "nbformat_minor": 5
}
